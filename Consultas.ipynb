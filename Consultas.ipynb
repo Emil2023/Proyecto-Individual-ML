{
 "cells": [
  {
   "cell_type": "code",
   "execution_count": 2,
   "metadata": {},
   "outputs": [],
   "source": [
    "import pandas as pd\n",
    "\n",
    "df = pd.read_csv(r\"C:\\Users\\WINDOW 10\\Desktop\\Labs\\Datasets\\clean_movies_dataset.csv\")\n"
   ]
  },
  {
   "cell_type": "code",
   "execution_count": 7,
   "metadata": {},
   "outputs": [
    {
     "data": {
      "text/html": [
       "<div>\n",
       "<style scoped>\n",
       "    .dataframe tbody tr th:only-of-type {\n",
       "        vertical-align: middle;\n",
       "    }\n",
       "\n",
       "    .dataframe tbody tr th {\n",
       "        vertical-align: top;\n",
       "    }\n",
       "\n",
       "    .dataframe thead th {\n",
       "        text-align: right;\n",
       "    }\n",
       "</style>\n",
       "<table border=\"1\" class=\"dataframe\">\n",
       "  <thead>\n",
       "    <tr style=\"text-align: right;\">\n",
       "      <th></th>\n",
       "      <th>budget</th>\n",
       "      <th>id</th>\n",
       "      <th>original_language</th>\n",
       "      <th>overview</th>\n",
       "      <th>popularity</th>\n",
       "      <th>release_date</th>\n",
       "      <th>revenue</th>\n",
       "      <th>runtime</th>\n",
       "      <th>spoken_languages</th>\n",
       "      <th>status</th>\n",
       "      <th>...</th>\n",
       "      <th>genre_names</th>\n",
       "      <th>production_companies_ids</th>\n",
       "      <th>production_companies_names</th>\n",
       "      <th>country</th>\n",
       "      <th>release_month</th>\n",
       "      <th>return</th>\n",
       "      <th>collection_id</th>\n",
       "      <th>collection_name</th>\n",
       "      <th>collection_poster</th>\n",
       "      <th>collection_backdrop</th>\n",
       "    </tr>\n",
       "  </thead>\n",
       "  <tbody>\n",
       "    <tr>\n",
       "      <th>0</th>\n",
       "      <td>30000000.0</td>\n",
       "      <td>862</td>\n",
       "      <td>en</td>\n",
       "      <td>Led by Woody, Andy's toys live happily in his ...</td>\n",
       "      <td>21.946943</td>\n",
       "      <td>1995-10-30</td>\n",
       "      <td>373554033.0</td>\n",
       "      <td>81.0</td>\n",
       "      <td>English</td>\n",
       "      <td>Released</td>\n",
       "      <td>...</td>\n",
       "      <td>['Animation', 'Comedy', 'Family']</td>\n",
       "      <td>[3]</td>\n",
       "      <td>['Pixar Animation Studios']</td>\n",
       "      <td>United States of America</td>\n",
       "      <td>10</td>\n",
       "      <td>12.451801</td>\n",
       "      <td>10194.0</td>\n",
       "      <td>Toy Story Collection</td>\n",
       "      <td>/7G9915LfUQ2lVfwMEEhDsn3kT4B.jpg</td>\n",
       "      <td>/9FBwqcd9IRruEDUrTdcaafOMKUq.jpg</td>\n",
       "    </tr>\n",
       "    <tr>\n",
       "      <th>1</th>\n",
       "      <td>65000000.0</td>\n",
       "      <td>8844</td>\n",
       "      <td>en</td>\n",
       "      <td>When siblings Judy and Peter discover an encha...</td>\n",
       "      <td>17.015539</td>\n",
       "      <td>1995-12-15</td>\n",
       "      <td>262797249.0</td>\n",
       "      <td>104.0</td>\n",
       "      <td>English</td>\n",
       "      <td>Released</td>\n",
       "      <td>...</td>\n",
       "      <td>['Adventure', 'Fantasy', 'Family']</td>\n",
       "      <td>[559, 2550, 10201]</td>\n",
       "      <td>['TriStar Pictures', 'Teitler Film', 'Intersco...</td>\n",
       "      <td>United States of America</td>\n",
       "      <td>12</td>\n",
       "      <td>4.043035</td>\n",
       "      <td>NaN</td>\n",
       "      <td>NaN</td>\n",
       "      <td>NaN</td>\n",
       "      <td>NaN</td>\n",
       "    </tr>\n",
       "  </tbody>\n",
       "</table>\n",
       "<p>2 rows × 25 columns</p>\n",
       "</div>"
      ],
      "text/plain": [
       "       budget    id original_language  \\\n",
       "0  30000000.0   862                en   \n",
       "1  65000000.0  8844                en   \n",
       "\n",
       "                                            overview  popularity release_date  \\\n",
       "0  Led by Woody, Andy's toys live happily in his ...   21.946943   1995-10-30   \n",
       "1  When siblings Judy and Peter discover an encha...   17.015539   1995-12-15   \n",
       "\n",
       "       revenue  runtime spoken_languages    status  ...  \\\n",
       "0  373554033.0     81.0          English  Released  ...   \n",
       "1  262797249.0    104.0          English  Released  ...   \n",
       "\n",
       "                          genre_names production_companies_ids  \\\n",
       "0   ['Animation', 'Comedy', 'Family']                      [3]   \n",
       "1  ['Adventure', 'Fantasy', 'Family']       [559, 2550, 10201]   \n",
       "\n",
       "                          production_companies_names  \\\n",
       "0                        ['Pixar Animation Studios']   \n",
       "1  ['TriStar Pictures', 'Teitler Film', 'Intersco...   \n",
       "\n",
       "                    country release_month     return collection_id  \\\n",
       "0  United States of America            10  12.451801       10194.0   \n",
       "1  United States of America            12   4.043035           NaN   \n",
       "\n",
       "        collection_name                 collection_poster  \\\n",
       "0  Toy Story Collection  /7G9915LfUQ2lVfwMEEhDsn3kT4B.jpg   \n",
       "1                   NaN                               NaN   \n",
       "\n",
       "                collection_backdrop  \n",
       "0  /9FBwqcd9IRruEDUrTdcaafOMKUq.jpg  \n",
       "1                               NaN  \n",
       "\n",
       "[2 rows x 25 columns]"
      ]
     },
     "execution_count": 7,
     "metadata": {},
     "output_type": "execute_result"
    }
   ],
   "source": [
    "df.head(2)"
   ]
  },
  {
   "cell_type": "code",
   "execution_count": 34,
   "metadata": {},
   "outputs": [],
   "source": [
    "meses_esp = {\n",
    "    'January': 'enero',\n",
    "    'February': 'febrero',\n",
    "    'March': 'marzo',\n",
    "    'April': 'abril',\n",
    "    'May': 'mayo',\n",
    "    'June': 'junio',\n",
    "    'July': 'julio',\n",
    "    'August': 'agosto',\n",
    "    'September': 'septiembre',\n",
    "    'October': 'octubre',\n",
    "    'November': 'noviembre',\n",
    "    'December': 'diciembre'\n",
    "}\n",
    "\n",
    "dias_semana = {\n",
    "    'Monday': 'Lunes',\n",
    "    'Tuesday': 'Martes',\n",
    "    'Wednesday': 'Miércoles',\n",
    "    'Thursday': 'Jueves',\n",
    "    'Friday': 'Viernes',\n",
    "    'Saturday': 'Sábado',\n",
    "    'Sunday': 'Domingo'\n",
    "}"
   ]
  },
  {
   "cell_type": "code",
   "execution_count": 14,
   "metadata": {},
   "outputs": [],
   "source": [
    "df['release_date'] = pd.to_datetime(df['release_date'])\n",
    "df['release_month'] = df['release_date'].dt.month_name()\n",
    "df['release_day'] = df['release_date'].dt.day_name()"
   ]
  },
  {
   "cell_type": "code",
   "execution_count": 82,
   "metadata": {},
   "outputs": [],
   "source": [
    "def peliculas_mes(mes):\n",
    "    fechas=pd.to_datetime(df['release_date'],format='%Y-%m-%d')\n",
    "    nmes=fechas[fechas.dt.month_name(locale='es_CO')==mes.capitalize()]\n",
    "    respuesta=nmes.shape[0]\n",
    "    return {'mes':mes, 'cantidad':respuesta}"
   ]
  },
  {
   "cell_type": "code",
   "execution_count": 83,
   "metadata": {},
   "outputs": [
    {
     "data": {
      "text/plain": [
       "{'mes': 'Marzo', 'cantidad': 3553}"
      ]
     },
     "execution_count": 83,
     "metadata": {},
     "output_type": "execute_result"
    }
   ],
   "source": [
    "peliculas_mes('Marzo')"
   ]
  },
  {
   "cell_type": "code",
   "execution_count": 93,
   "metadata": {},
   "outputs": [],
   "source": [
    "def peliculas_dia(dia):\n",
    "    fechas=pd.to_datetime(df['release_date'],format='%Y-%m-%d')\n",
    "    ndia=fechas[fechas.dt.day_name(locale='es_CO')==dia.capitalize()]\n",
    "    respuesta=ndia.shape[0]\n",
    "    return {'dia':dia, 'cantidad':respuesta}"
   ]
  },
  {
   "cell_type": "code",
   "execution_count": 94,
   "metadata": {},
   "outputs": [
    {
     "data": {
      "text/plain": [
       "{'dia': 'Lunes', 'cantidad': 3503}"
      ]
     },
     "execution_count": 94,
     "metadata": {},
     "output_type": "execute_result"
    }
   ],
   "source": [
    "peliculas_dia('Lunes')"
   ]
  },
  {
   "cell_type": "code",
   "execution_count": 46,
   "metadata": {},
   "outputs": [],
   "source": [
    "def franquicia(franquicia):\n",
    "    # Obtiene la cantidad de películas, la ganancia total y el promedio de ganancias para la franquicia especificada\n",
    "    df_franquicia = df[df['collection_name'] == franquicia]\n",
    "    cantidad = len(df_franquicia)\n",
    "    ganancia_total = df_franquicia['revenue'].sum()\n",
    "    ganancia_promedio = df_franquicia['revenue'].mean()\n",
    "    return {'franquicia':franquicia, 'cantidad':cantidad, 'ganancia_total':ganancia_total, 'ganancia_promedio':ganancia_promedio}"
   ]
  },
  {
   "cell_type": "code",
   "execution_count": 47,
   "metadata": {},
   "outputs": [
    {
     "data": {
      "text/plain": [
       "{'franquicia': 'Toy Story Collection',\n",
       " 'cantidad': 3,\n",
       " 'ganancia_total': 1937890605.0,\n",
       " 'ganancia_promedio': 645963535.0}"
      ]
     },
     "execution_count": 47,
     "metadata": {},
     "output_type": "execute_result"
    }
   ],
   "source": [
    "franquicia(\"Toy Story Collection\")\n"
   ]
  },
  {
   "cell_type": "code",
   "execution_count": 63,
   "metadata": {},
   "outputs": [],
   "source": [
    "def peliculas_pais(pais):\n",
    "    df_pais = df[df['country'] == pais]\n",
    "    cantidad = len(df_pais)\n",
    "    return {'pais':pais, 'cantidad':cantidad}"
   ]
  },
  {
   "cell_type": "code",
   "execution_count": 71,
   "metadata": {},
   "outputs": [
    {
     "data": {
      "text/plain": [
       "{'pais': 'France', 'cantidad': 2704}"
      ]
     },
     "execution_count": 71,
     "metadata": {},
     "output_type": "execute_result"
    }
   ],
   "source": [
    "peliculas_pais(\"France\") "
   ]
  },
  {
   "cell_type": "code",
   "execution_count": 2,
   "metadata": {},
   "outputs": [],
   "source": [
    "def productoras(productora):\n",
    "    #productio_companies_name esta en el dataset como una lista con todas las productoras de la pelicula, por lo que se debe buscar en cada lista si esta la productora\n",
    "    df_productora = df[df['production_companies_names'].str.contains(productora)]\n",
    "    cantidad = len(df_productora)\n",
    "    ganancia_total = df_productora['revenue'].sum()\n",
    "    return {'productora':productora, 'ganancia_total':ganancia_total, 'cantidad':cantidad}"
   ]
  },
  {
   "cell_type": "code",
   "execution_count": 3,
   "metadata": {},
   "outputs": [
    {
     "data": {
      "text/plain": [
       "{'productora': 'TriStar Pictures',\n",
       " 'ganancia_total': 8022366764.0,\n",
       " 'cantidad': 196}"
      ]
     },
     "execution_count": 3,
     "metadata": {},
     "output_type": "execute_result"
    }
   ],
   "source": [
    "productoras('TriStar Pictures')"
   ]
  },
  {
   "cell_type": "code",
   "execution_count": 5,
   "metadata": {},
   "outputs": [],
   "source": [
    "df['release_year'] = df['release_year'].astype(str)"
   ]
  },
  {
   "cell_type": "code",
   "execution_count": 6,
   "metadata": {},
   "outputs": [],
   "source": [
    "def retorno(pelicula):\n",
    "    df_pelicula = df[df['title'] == pelicula]\n",
    "    inversion = df_pelicula['budget'].values[0]\n",
    "    ganancia = df_pelicula['revenue'].values[0]-df_pelicula['budget'].values[0]\n",
    "    retorno = df_pelicula['return'].values[0]\n",
    "    anio = df_pelicula['release_year'].values[0]\n",
    "    return {'pelicula':pelicula, 'inversion':inversion, 'ganacia':ganancia,'retorno':retorno, 'año':anio}"
   ]
  },
  {
   "cell_type": "code",
   "execution_count": 7,
   "metadata": {},
   "outputs": [
    {
     "data": {
      "text/plain": [
       "{'pelicula': 'Toy Story',\n",
       " 'inversion': 30000000.0,\n",
       " 'ganacia': 343554033.0,\n",
       " 'retorno': 12.4518011,\n",
       " 'año': '1995'}"
      ]
     },
     "execution_count": 7,
     "metadata": {},
     "output_type": "execute_result"
    }
   ],
   "source": [
    "retorno(\"Toy Story\")"
   ]
  },
  {
   "cell_type": "code",
   "execution_count": 17,
   "metadata": {},
   "outputs": [],
   "source": [
    "import ast \n",
    "from sklearn.neighbors import NearestNeighbors"
   ]
  },
  {
   "cell_type": "code",
   "execution_count": 40,
   "metadata": {},
   "outputs": [],
   "source": [
    "df = pd.read_csv(r'C:\\Users\\WINDOW 10\\Desktop\\Labs\\Datasets\\clean_movies_dataset.csv')"
   ]
  },
  {
   "cell_type": "code",
   "execution_count": 51,
   "metadata": {},
   "outputs": [],
   "source": [
    "import pandas as pd\n",
    "import ast\n",
    "from sklearn.neighbors import NearestNeighbors\n",
    "\n",
    "def ml_movie(selected_title):\n",
    "    df = pd.read_csv(r'C:\\Users\\WINDOW 10\\Desktop\\Labs\\Datasets\\clean_movies_dataset.csv')\n",
    "    df['tagline'] = df['tagline'].fillna('')\n",
    "    df = df.dropna(subset=['overview', 'tagline', 'genre_names', 'title', 'id'])\n",
    "    \n",
    "    generos_df = df['genre_names'].str.join(sep='|').str.get_dummies()\n",
    "    \n",
    "    selected_genres = df.loc[df['title'] == selected_title]['genre_names'].values\n",
    "    if len(selected_genres) == 0:\n",
    "        return \"No se encontró la película \" + selected_title\n",
    "    selected_genres = ast.literal_eval(selected_genres[0])\n",
    "    df['genre_similarity'] = df['genre_names'].apply(lambda x: len(set(selected_genres) & set(ast.literal_eval(x))) / len(set(selected_genres) | set(ast.literal_eval(x))))\n",
    "    \n",
    "    df['same_series'] = df['title'].apply(lambda x: 1 if selected_title.lower() in x.lower() else 0)\n",
    "    \n",
    "    features_df = pd.concat([generos_df, df['vote_average'], df['genre_similarity'], df['same_series']], axis=1)\n",
    "\n",
    "    k = 6\n",
    "    knn = NearestNeighbors(n_neighbors=k+1, algorithm='auto')\n",
    "    knn.fit(features_df)\n",
    "    indices = knn.kneighbors(features_df.loc[df['title'] == selected_title])[1].flatten()\n",
    "    recommended_movies = list(df.iloc[indices]['title'])\n",
    "\n",
    "    selected_score = df.loc[df['title'] == selected_title]['vote_average'].values[0]\n",
    "    recommended_movies = sorted(recommended_movies, key=lambda x: (df.loc[df['title'] == x]['same_series'].values[0], df.loc[df['title'] == x]['vote_average'].values[0], df.loc[df['title'] == x]['genre_similarity'].values[0]), reverse=True)\n",
    "    recommended_movies = [movie for movie in recommended_movies if movie != selected_title]\n",
    "\n",
    "    if len(recommended_movies) == 0:\n",
    "        return \"No se encontraron películas similares a \" + selected_title\n",
    "    else:\n",
    "        respuesta = f\"Película seleccionada: {selected_title} ({selected_score}):\\n\\nPelículas Recomendadas:\\n\"\n",
    "        for i, pelicula in enumerate(recommended_movies[:5]):\n",
    "            score = df.loc[df['title'] == pelicula]['vote_average'].values[0]\n",
    "            genres = df.loc[df['title'] == pelicula]['genre_names'].values[0]\n",
    "            gen_str = ', '.join(ast.literal_eval(genres))\n",
    "\n",
    "            respuesta += f\"-{pelicula}  | Géneros: {gen_str} | Puntaje: {score} |\\n\"\n",
    "            if i == 4:\n",
    "                break\n",
    "        return respuesta\n"
   ]
  },
  {
   "cell_type": "code",
   "execution_count": 52,
   "metadata": {},
   "outputs": [
    {
     "data": {
      "text/plain": [
       "'Película seleccionada: Batman (7.0):\\n\\nPelículas Recomendadas:\\n-Batman Returns  | Géneros: Action, Fantasy | Puntaje: 6.6 |\\n-A Chinese Ghost Story  | Géneros: Fantasy, Action | Puntaje: 7.2 |\\n-The Legend of the Swordsman  | Géneros: Action, Fantasy | Puntaje: 6.9 |\\n-Spider-Man  | Géneros: Fantasy, Action | Puntaje: 6.8 |\\n-Journey to the Center of the Earth  | Géneros: Adventure, Fantasy, Family | Puntaje: 6.7 |\\n'"
      ]
     },
     "execution_count": 52,
     "metadata": {},
     "output_type": "execute_result"
    }
   ],
   "source": [
    "ml_movie(\"Batman\")"
   ]
  },
  {
   "cell_type": "code",
   "execution_count": null,
   "metadata": {},
   "outputs": [],
   "source": [
    "import pandas as pd\n",
    "import ast\n",
    "from sklearn.neighbors import NearestNeighbors\n",
    "\n",
    "def Movies_ML(selected_title):\n",
    "    df = pd.read_csv('clean_movies_dataset.csv')\n",
    "    df['tagline'] = df['tagline'].fillna('')\n",
    "    df = df.dropna(subset=['overview', 'tagline', 'genre_names', 'title', 'id'])\n",
    "    \n",
    "    generos_df = df['genre_names'].str.join(sep='|').str.get_dummies()\n",
    "    \n",
    "    selected_genres = df.loc[df['title'] == selected_title]['genre_names'].values\n",
    "    if len(selected_genres) == 0:\n",
    "        return \"No se encontró la película \" + selected_title\n",
    "    selected_genres = ast.literal_eval(selected_genres[0])\n",
    "    df['genre_similarity'] = df['genre_names'].apply(lambda x: len(set(selected_genres) & set(ast.literal_eval(x))) / len(set(selected_genres) | set(ast.literal_eval(x))))\n",
    "    \n",
    "    df['same_series'] = df['title'].apply(lambda x: 1 if selected_title.lower() in x.lower() else 0)\n",
    "    \n",
    "    features_df = pd.concat([generos_df, df['vote_average'], df['genre_similarity'], df['same_series']], axis=1)\n",
    "\n",
    "    k = 6\n",
    "    knn = NearestNeighbors(n_neighbors=k+1, algorithm='auto')\n",
    "    knn.fit(features_df)\n",
    "    indices = knn.kneighbors(features_df.loc[df['title'] == selected_title])[1].flatten()\n",
    "    recommended_movies = list(df.iloc[indices]['title'])\n",
    "\n",
    "    selected_score = df.loc[df['title'] == selected_title]['vote_average'].values[0]\n",
    "    recommended_movies = sorted(recommended_movies, key=lambda x: (df.loc[df['title'] == x]['same_series'].values[0], df.loc[df['title'] == x]['vote_average'].values[0], df.loc[df['title'] == x]['genre_similarity'].values[0]), reverse=True)\n",
    "    recommended_movies = [movie for movie in recommended_movies if movie != selected_title]\n",
    "\n",
    "    if len(recommended_movies) == 0:\n",
    "        return \"No se encontraron películas similares a \" + selected_title\n",
    "    else:\n",
    "        output_str = f\"Película seleccionada: {selected_title} ({selected_score}):\\n\\nPelículas Recomendadas:\\n\"\n",
    "        for i, pelicula in enumerate(recommended_movies[:5]):\n",
    "            score = df.loc[df['title'] == pelicula]['vote_average'].values[0]\n",
    "            genres = df.loc[df['title'] == pelicula]['genre_names'].values[0]\n",
    "            gen_str = ', '.join(ast.literal_eval(genres))\n",
    "\n",
    "            output_str += f\"-{pelicula}  | Géneros: {gen_str} | Puntaje: {score} |\\n\"\n",
    "            if i == 4:\n",
    "                break\n",
    "        return output_str\n"
   ]
  },
  {
   "cell_type": "code",
   "execution_count": 63,
   "metadata": {},
   "outputs": [],
   "source": [
    "import pandas as pd\n",
    "from sklearn.neighbors import NearestNeighbors\n",
    "\n",
    "def ml_movie(selected_title):\n",
    "    df = pd.read_csv(r'C:\\Users\\WINDOW 10\\Desktop\\Labs\\Datasets\\clean_movies_dataset.csv')\n",
    "    df = df.dropna(subset=['overview', 'tagline', 'genre_names', 'title', 'id'])\n",
    "\n",
    "    generos_df = df['genre_names'].str.join(sep='|').str.get_dummies()\n",
    "\n",
    "    selected_title = \"Batman\"\n",
    "    selected_genres = df.loc[df['title'] == selected_title, 'genre_names'].values[0]\n",
    "    df['genre_similarity'] = df['genre_names'].apply(lambda x: len(set(selected_genres) & set(x)) / len(set(selected_genres) | set(x)))\n",
    "    df['same_series'] = df['title'].apply(lambda x: 1 if 'Batman' in x else 0)\n",
    "\n",
    "    features_df = pd.concat([generos_df, df['vote_average'], df['genre_similarity'], df['same_series']], axis=1)\n",
    "\n",
    "    k = 6\n",
    "    knn = NearestNeighbors(n_neighbors=k+1, algorithm='auto')\n",
    "    knn.fit(features_df)\n",
    "    indices = knn.kneighbors(features_df.loc[df['title'] == selected_title])[1].flatten()\n",
    "    recommended_movies = list(df.iloc[indices]['title'])\n",
    "\n",
    "    selected_score = df.loc[df['title'] == selected_title, 'vote_average'].values[0]\n",
    "    recommended_movies = sorted(recommended_movies, key=lambda x: (df.loc[df['title'] == x, 'same_series'].values[0], df.loc[df['title'] == x, 'vote_average'].values[0], df.loc[df['title'] == x, 'genre_similarity'].values[0]), reverse=True)\n",
    "    recommended_movies = [movie for movie in recommended_movies if movie != selected_title]\n",
    "    \n",
    "    print(f\"Pelicula seleccionada: {selected_title} ({selected_score}):\\n\")\n",
    "    print(\"Peliculas Recomendadas:\\n\")\n",
    "    for i, pelicula in enumerate(recommended_movies[:5]):\n",
    "        score = df.loc[df['title'] == pelicula, 'vote_average'].values[0]\n",
    "        genres = df.loc[df['title'] == pelicula, 'genre_names'].values[0]\n",
    "        gen_str = ', '.join(genres)\n",
    "        print(f\"-{pelicula}  | Generos: {gen_str} | Puntaje: {score} |\")\n",
    "        if i == 4:\n",
    "            break\n",
    "    print(\"\\n\")\n",
    "    print(recommended_movies[0:5])"
   ]
  },
  {
   "cell_type": "code",
   "execution_count": 64,
   "metadata": {},
   "outputs": [
    {
     "name": "stdout",
     "output_type": "stream",
     "text": [
      "Pelicula seleccionada: Batman (7.0):\n",
      "\n",
      "Peliculas Recomendadas:\n",
      "\n",
      "-Batman Returns  | Generos: [, ', A, c, t, i, o, n, ', ,,  , ', F, a, n, t, a, s, y, ', ] | Puntaje: 6.6 |\n",
      "-Justice League: Gods and Monsters  | Generos: [, ', A, c, t, i, o, n, ', ,,  , ', A, n, i, m, a, t, i, o, n, ', ,,  , ', F, a, n, t, a, s, y, ', ] | Puntaje: 6.9 |\n",
      "-Spider-Man  | Generos: [, ', F, a, n, t, a, s, y, ', ,,  , ', A, c, t, i, o, n, ', ] | Puntaje: 6.8 |\n",
      "-Journey to the Center of the Earth  | Generos: [, ', A, d, v, e, n, t, u, r, e, ', ,,  , ', F, a, n, t, a, s, y, ', ,,  , ', F, a, m, i, l, y, ', ] | Puntaje: 6.7 |\n",
      "-The Challenge  | Generos: [, ', A, c, t, i, o, n, ', ,,  , ', S, c, i, e, n, c, e,  , F, i, c, t, i, o, n, ', ] | Puntaje: 6.6 |\n",
      "\n",
      "\n",
      "['Batman Returns', 'Justice League: Gods and Monsters', 'Spider-Man', 'Journey to the Center of the Earth', 'The Challenge']\n"
     ]
    }
   ],
   "source": [
    "ml_movie(\"Batman\")"
   ]
  }
 ],
 "metadata": {
  "kernelspec": {
   "display_name": "Python 3",
   "language": "python",
   "name": "python3"
  },
  "language_info": {
   "codemirror_mode": {
    "name": "ipython",
    "version": 3
   },
   "file_extension": ".py",
   "mimetype": "text/x-python",
   "name": "python",
   "nbconvert_exporter": "python",
   "pygments_lexer": "ipython3",
   "version": "3.10.9"
  },
  "orig_nbformat": 4
 },
 "nbformat": 4,
 "nbformat_minor": 2
}
