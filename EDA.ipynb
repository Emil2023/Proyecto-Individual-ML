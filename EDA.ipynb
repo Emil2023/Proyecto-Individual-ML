{
 "cells": [
  {
   "cell_type": "code",
   "execution_count": 1,
   "metadata": {},
   "outputs": [],
   "source": [
    "#Importamos la libreria pandas\n",
    "import pandas as pd"
   ]
  },
  {
   "cell_type": "code",
   "execution_count": 2,
   "metadata": {},
   "outputs": [],
   "source": [
    "#Cargamos el Dataset\n",
    "df = pd.read_csv(\"Datasets\\clean_movies_dataset.csv\")"
   ]
  },
  {
   "cell_type": "code",
   "execution_count": 3,
   "metadata": {},
   "outputs": [],
   "source": [
    "def test(selected_title):\n",
    "    \"\"\" \n",
    "    Esta función toma el título de una película como entrada y devuelve una lista de las 5 películas más recomendadas basadas en similitud y puntaje utilizando el algoritmo KNN.\n",
    "    \n",
    "    \"\"\" \n",
    "    df = pd.read_csv('movies_dataset_reduced.csv') \n",
    "    k = 6\n",
    "    generos_df = pd.read_csv('genres_binary.csv', index_col=0).astype('float32')\n",
    "\n",
    "    selected_genres = df.loc[df['title'] == selected_title]['genres'].values[0]\n",
    "    df['genre_similarity'] = df['genres'].apply(lambda x: len(set(selected_genres) & set(x)) / len(set(selected_genres) | set(x)))\n",
    "    df['same_series'] = df['title'].apply(lambda x: 1 if 'Batman' in x else 0)\n",
    "    features_df = pd.concat([generos_df, df['vote_average'], df['genre_similarity'], df['same_series']], axis=1)\n",
    "    knn = NearestNeighbors(n_neighbors=k+1, algorithm='auto')\n",
    "    knn.fit(features_df)\n",
    "    indices = knn.kneighbors(features_df.loc[df['title'] == selected_title])[1].flatten()\n",
    "    recommended_movies = list(df.iloc[indices]['title'])\n",
    "    recommended_movies = sorted(recommended_movies, key=lambda x: (df.loc[df['title'] == x]['same_series'].values[0], df.loc[df['title'] == x]['vote_average'].values[0], df.loc[df['title'] == x]['genre_similarity'].values[0]), reverse=True)\n",
    "    recommended_movies = [movie for movie in recommended_movies if movie != selected_title]\n",
    "    return recommended_movies[0:5]"
   ]
  },
  {
   "cell_type": "code",
   "execution_count": 7,
   "metadata": {},
   "outputs": [
    {
     "ename": "NameError",
     "evalue": "name 'ast' is not defined",
     "output_type": "error",
     "traceback": [
      "\u001b[1;31m---------------------------------------------------------------------------\u001b[0m",
      "\u001b[1;31mNameError\u001b[0m                                 Traceback (most recent call last)",
      "Cell \u001b[1;32mIn[7], line 1\u001b[0m\n\u001b[1;32m----> 1\u001b[0m df[\u001b[39m'\u001b[39m\u001b[39mgenre_names\u001b[39m\u001b[39m'\u001b[39m] \u001b[39m=\u001b[39m df[\u001b[39m'\u001b[39m\u001b[39mgenre_names\u001b[39m\u001b[39m'\u001b[39m]\u001b[39m.\u001b[39mapply(ast\u001b[39m.\u001b[39mliteral_eval)\n\u001b[0;32m      2\u001b[0m genreList \u001b[39m=\u001b[39m [\u001b[39m'\u001b[39m\u001b[39mHistory\u001b[39m\u001b[39m'\u001b[39m, \u001b[39m'\u001b[39m\u001b[39mAnimation\u001b[39m\u001b[39m'\u001b[39m, \u001b[39m'\u001b[39m\u001b[39mMystery\u001b[39m\u001b[39m'\u001b[39m, \u001b[39m'\u001b[39m\u001b[39mComedy\u001b[39m\u001b[39m'\u001b[39m, \u001b[39m'\u001b[39m\u001b[39mDocumentary\u001b[39m\u001b[39m'\u001b[39m, \u001b[39m'\u001b[39m\u001b[39mWar\u001b[39m\u001b[39m'\u001b[39m, \u001b[39m'\u001b[39m\u001b[39mAction\u001b[39m\u001b[39m'\u001b[39m, \u001b[39m'\u001b[39m\u001b[39mRomance\u001b[39m\u001b[39m'\u001b[39m, \u001b[39m'\u001b[39m\u001b[39mFamily\u001b[39m\u001b[39m'\u001b[39m, \u001b[39m'\u001b[39m\u001b[39mAdventure\u001b[39m\u001b[39m'\u001b[39m, \u001b[39m'\u001b[39m\u001b[39mThriller\u001b[39m\u001b[39m'\u001b[39m, \u001b[39m'\u001b[39m\u001b[39mFantasy\u001b[39m\u001b[39m'\u001b[39m, \u001b[39m'\u001b[39m\u001b[39mTV Movie\u001b[39m\u001b[39m'\u001b[39m, \u001b[39m'\u001b[39m\u001b[39mCrime\u001b[39m\u001b[39m'\u001b[39m, \u001b[39m'\u001b[39m\u001b[39mMusic\u001b[39m\u001b[39m'\u001b[39m, \u001b[39m'\u001b[39m\u001b[39mHorror\u001b[39m\u001b[39m'\u001b[39m, \u001b[39m'\u001b[39m\u001b[39mDrama\u001b[39m\u001b[39m'\u001b[39m, \u001b[39m'\u001b[39m\u001b[39mForeign\u001b[39m\u001b[39m'\u001b[39m, \u001b[39m'\u001b[39m\u001b[39mScience Fiction\u001b[39m\u001b[39m'\u001b[39m, \u001b[39m'\u001b[39m\u001b[39mWestern\u001b[39m\u001b[39m'\u001b[39m]\n\u001b[0;32m      3\u001b[0m generos_df \u001b[39m=\u001b[39m pd\u001b[39m.\u001b[39mDataFrame(columns\u001b[39m=\u001b[39mgenreList, index\u001b[39m=\u001b[39mdf\u001b[39m.\u001b[39mindex)\n",
      "\u001b[1;31mNameError\u001b[0m: name 'ast' is not defined"
     ]
    }
   ],
   "source": [
    "df['genre_names'] = df['genre_names'].apply(ast.literal_eval)\n",
    "genreList = ['History', 'Animation', 'Mystery', 'Comedy', 'Documentary', 'War', 'Action', 'Romance', 'Family', 'Adventure', 'Thriller', 'Fantasy', 'TV Movie', 'Crime', 'Music', 'Horror', 'Drama', 'Foreign', 'Science Fiction', 'Western']\n",
    "generos_df = pd.DataFrame(columns=genreList, index=df.index)\n",
    "for i, row in df.iterrows():\n",
    "    genres = row['genre_names']\n",
    "    for genre in genres:\n",
    "        if genre in genreList:\n",
    "            generos_df.loc[i, genre] = 1\n",
    "generos_df.fillna(0, inplace=True)\n",
    "generos_df.to_csv('genres_binary.csv')"
   ]
  }
 ],
 "metadata": {
  "kernelspec": {
   "display_name": "Python 3",
   "language": "python",
   "name": "python3"
  },
  "language_info": {
   "codemirror_mode": {
    "name": "ipython",
    "version": 3
   },
   "file_extension": ".py",
   "mimetype": "text/x-python",
   "name": "python",
   "nbconvert_exporter": "python",
   "pygments_lexer": "ipython3",
   "version": "3.10.9"
  },
  "orig_nbformat": 4
 },
 "nbformat": 4,
 "nbformat_minor": 2
}
